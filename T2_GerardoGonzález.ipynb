{
 "cells": [
  {
   "cell_type": "markdown",
   "metadata": {},
   "source": [
    "Primer resumen de un artículo\n",
    "# 5 RAZONES POR LAS QUE DEBERÍAS APRENDER PYTHON AHORA\n",
    "\n",
    "\n",
    "Python es fácil de usar, potente y versátil, por lo que es una excelente opción tanto para principiantes como para expertos. Se convierte en un excelente primer lenguaje de programación: permite pensar como un programador y no perder el tiempo con una sintaxis confusa. Si Python no está instalado, es fácil de  descargar e instalar . En lugar de centrarse en cómo hacer que su código se ejecute, podrá centrarse en aprender conceptos de programación reales, al momento de pasar a otros lenguajes será más fácil de entenderlos. Python es increíblemente poderoso: hay una razón por la cual compañías como Google, Dropbox, Spotify y Netflix lo usan.\n",
    "\n",
    "Google, Spotify y Netflix usan una combinación de idiomas. Spotify usa mucho Java, pero usa Python para cosas como su API web y su  consola de API interactiva , que permite a los desarrolladores explorar puntos finales con una interfaz fácil de usar. Si echa un vistazo a estas compañías, puede ver que se benefician de Python por su facilidad de uso y porque es excelente para la creación rápida de prototipos y la iteración. También puede ver que Python se puede usar para una amplia variedad de aplicaciones, y a medida que aprenda los conceptos básicos de Python, podrá crear casi cualquier cosa que desee. Muchos grandes desarrolladores contribuyen diariamente a la comunidad de Python creando bibliotecas de Python.\n",
    "\n"
   ]
  },
  {
   "cell_type": "markdown",
   "metadata": {},
   "source": [
    "Segundo resumen \n",
    "# Spotlight: por qué el entrenamiento en Python vale la pena\n",
    "\n",
    "Los lenguajes de programación y los estilos de codificación cambian tan rápidamente que es un trabajo real descubrir cuáles valen su tiempo y dinero. Y luego está Python. Python ha sido un pilar de la codificación durante casi tres décadas. \n",
    "### Los fundamentos de Python\n",
    "\n",
    "Las capacidades de Python van desde propósitos generales hasta funciones de programación de nivel superior, y tiene una amplia variedad de aplicaciones. Python también hace uso de la sintaxis optimizada, que ayuda en gran medida a simplificar el mantenimiento y las actualizaciones y le permite expresar varios conceptos de programación sin la necesidad de codificación adicional.\n",
    "\n",
    "### Una mano amiga\n",
    "\n",
    "Dependiendo de su nivel de comodidad en lo que respecta a la enseñanza y la capacitación, es posible que desee considerar traer ayuda adicional para preparar a su equipo para conquistar lo que podría ser un lenguaje de programación desconocido.\n",
    "\n",
    "### Conquistando un nuevo idioma\n",
    "\n",
    "Si bien Python puede parecer intimidante para los no iniciados, una vez que haya invertido en la capacitación adecuada, encontrará que será mucho más fácil para su equipo captar estos conceptos y aplicarlos a los proyectos de la compañía.\n",
    "\n",
    "El entrenamiento apropiado de Python bien vale la inversión para conquistar este nuevo lenguaje.\n"
   ]
  }
 ],
 "metadata": {
  "kernelspec": {
   "display_name": "Python 3",
   "language": "python",
   "name": "python3"
  },
  "language_info": {
   "codemirror_mode": {
    "name": "ipython",
    "version": 3
   },
   "file_extension": ".py",
   "mimetype": "text/x-python",
   "name": "python",
   "nbconvert_exporter": "python",
   "pygments_lexer": "ipython3",
   "version": "3.7.3"
  }
 },
 "nbformat": 4,
 "nbformat_minor": 2
}
