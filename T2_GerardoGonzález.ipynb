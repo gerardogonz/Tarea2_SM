{
 "cells": [
  {
   "cell_type": "markdown",
   "metadata": {},
   "source": [
    "Primer resumen de un artículo\n",
    "# 5 RAZONES POR LAS QUE DEBERÍAS APRENDER PYTHON AHORA\n",
    "\n",
    "\n",
    "Python es fácil de usar, potente y versátil, por lo que es una excelente opción tanto para principiantes como para expertos. Se convierte en un excelente primer lenguaje de programación: permite pensar como un programador y no perder el tiempo con una sintaxis confusa. Si Python no está instalado, es fácil de  descargar e instalar . En lugar de centrarse en cómo hacer que su código se ejecute, podrá centrarse en aprender conceptos de programación reales, al momento de pasar a otros lenguajes será más fácil de entenderlos. Python es increíblemente poderoso: hay una razón por la cual compañías como Google, Dropbox, Spotify y Netflix lo usan.\n",
    "\n",
    "Google, Spotify y Netflix usan una combinación de idiomas. Spotify usa mucho Java, pero usa Python para cosas como su API web y su  consola de API interactiva , que permite a los desarrolladores explorar puntos finales con una interfaz fácil de usar. Si echa un vistazo a estas compañías, puede ver que se benefician de Python por su facilidad de uso y porque es excelente para la creación rápida de prototipos y la iteración. También puede ver que Python se puede usar para una amplia variedad de aplicaciones, y a medida que aprenda los conceptos básicos de Python, podrá crear casi cualquier cosa que desee. Muchos grandes desarrolladores contribuyen diariamente a la comunidad de Python creando bibliotecas de Python.\n",
    "\n"
   ]
  }
 ],
 "metadata": {
  "kernelspec": {
   "display_name": "Python 3",
   "language": "python",
   "name": "python3"
  },
  "language_info": {
   "codemirror_mode": {
    "name": "ipython",
    "version": 3
   },
   "file_extension": ".py",
   "mimetype": "text/x-python",
   "name": "python",
   "nbconvert_exporter": "python",
   "pygments_lexer": "ipython3",
   "version": "3.7.3"
  }
 },
 "nbformat": 4,
 "nbformat_minor": 2
}
